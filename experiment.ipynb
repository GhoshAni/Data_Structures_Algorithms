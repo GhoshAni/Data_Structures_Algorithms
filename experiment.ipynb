{
 "cells": [
  {
   "cell_type": "code",
   "execution_count": 1,
   "metadata": {
    "vscode": {
     "languageId": "powershell"
    }
   },
   "outputs": [
    {
     "name": "stdout",
     "output_type": "stream",
     "text": [
      "45\n",
      "67\n",
      "23\n"
     ]
    }
   ],
   "source": [
    "num_list = [45, 67, 23]\n",
    "\n",
    "largest_num = num_list[0]\n",
    "for i in range(len(num_list)):\n",
    "    print(num_list[i])"
   ]
  },
  {
   "cell_type": "code",
   "execution_count": 7,
   "metadata": {
    "vscode": {
     "languageId": "powershell"
    }
   },
   "outputs": [
    {
     "name": "stdout",
     "output_type": "stream",
     "text": [
      "67\n"
     ]
    }
   ],
   "source": [
    "num_list = [45, 67, 23]\n",
    "\n",
    "largest_num = num_list[0]\n",
    "for i in range(len(num_list)):\n",
    "    if num_list[i] > largest_num:\n",
    "       largest_num = num_list[i]\n",
    "       i += 1\n",
    "print(largest_num)"
   ]
  },
  {
   "cell_type": "code",
   "execution_count": 5,
   "metadata": {
    "vscode": {
     "languageId": "powershell"
    }
   },
   "outputs": [],
   "source": [
    "def find_largest_number(num_list):\n",
    "    largest_num = num_list[0]\n",
    "    for i in range(len(num_list)):\n",
    "        if num_list[i] > largest_num:\n",
    "            largest_num = num_list[i]\n",
    "            i += 1\n",
    "    return largest_num\n",
    "\n"
   ]
  },
  {
   "cell_type": "code",
   "execution_count": 8,
   "metadata": {
    "vscode": {
     "languageId": "powershell"
    }
   },
   "outputs": [
    {
     "name": "stdout",
     "output_type": "stream",
     "text": [
      "160\n"
     ]
    }
   ],
   "source": [
    "print(find_largest_number([55, 34, 56, 78, 80, 12, 160]))"
   ]
  },
  {
   "cell_type": "code",
   "execution_count": 1,
   "metadata": {
    "vscode": {
     "languageId": "powershell"
    }
   },
   "outputs": [
    {
     "name": "stdout",
     "output_type": "stream",
     "text": [
      "34\n",
      "56\n",
      "78\n"
     ]
    },
    {
     "data": {
      "text/plain": [
       "[55, 34, 56, 78, 160]"
      ]
     },
     "execution_count": 1,
     "metadata": {},
     "output_type": "execute_result"
    }
   ],
   "source": [
    "num_list = [55, 34, 56, 78, 160]\n",
    "sorted_list =[]\n",
    "LowestNumberIndex = 0\n",
    "for i in range(len(num_list)- 1):\n",
    "    if num_list[LowestNumberIndex] <= num_list[i + 1] :\n",
    "       LowestNumberIndex = i\n",
    "       print(num_list[LowestNumberIndex])\n",
    " \n",
    "num_list  \n",
    "#num_list[LowestNumberIndex] <= num_list[i]     "
   ]
  },
  {
   "cell_type": "code",
   "execution_count": 5,
   "metadata": {
    "vscode": {
     "languageId": "powershell"
    }
   },
   "outputs": [
    {
     "name": "stdout",
     "output_type": "stream",
     "text": [
      "9\n"
     ]
    },
    {
     "data": {
      "text/plain": [
       "[3, 2, 10, 23, 12, 45, 45, 67, 34, 90]"
      ]
     },
     "execution_count": 5,
     "metadata": {},
     "output_type": "execute_result"
    }
   ],
   "source": [
    "# bubble sort\n",
    "my_list = [10, 3,2, 45, 23, 12, 45, 67,90, 34]\n",
    "\n",
    "# sort this using bubble sort method\n",
    "\n",
    "unsorted_index = len(my_list) - 1 \n",
    "print(unsorted_index)\n",
    "\n",
    "sorted = False\n",
    "\n",
    "while not sorted:\n",
    "      sorted = True\n",
    "      for i in range(unsorted_index):\n",
    "          if my_list[i] > my_list[ i + 1]:\n",
    "             my_list[i] , my_list[ i + 1] = my_list[ i + 1], my_list[i]\n",
    "             sorted = True\n",
    "             unsorted_index -= 1\n",
    "\n",
    "my_list"
   ]
  },
  {
   "cell_type": "code",
   "execution_count": 14,
   "metadata": {
    "vscode": {
     "languageId": "powershell"
    }
   },
   "outputs": [
    {
     "name": "stdout",
     "output_type": "stream",
     "text": [
      "[1, 4, 6, 23, 34, 38, 45, 45, 67, 89, 90]\n"
     ]
    }
   ],
   "source": [
    "# Selection sort\n",
    "num_list = [4, 1, 89, 6, 67, 45, 34, 90, 23, 45, 38]\n",
    "\n",
    "for i in range(len(num_list)):\n",
    "    lowest_value_index = i\n",
    "\n",
    "    for j in range(i + 1, len(num_list)):\n",
    "        if num_list[j] < num_list[lowest_value_index]:\n",
    "           lowest_value_index = j\n",
    "    (num_list[i], num_list[lowest_value_index]) =  (num_list[lowest_value_index], num_list[i])\n",
    "          \n",
    "print(num_list)"
   ]
  },
  {
   "cell_type": "code",
   "execution_count": 51,
   "metadata": {
    "vscode": {
     "languageId": "powershell"
    }
   },
   "outputs": [
    {
     "data": {
      "text/plain": [
       "[0, 2, 2, 3, 4, 4, 7, 8, 10, 13, 45, 99]"
      ]
     },
     "execution_count": 51,
     "metadata": {},
     "output_type": "execute_result"
    }
   ],
   "source": [
    "array = [10,2,4,8,3,0, 45,13, 2, 4,7,99]\n",
    "\n",
    "for i in range(1, len(array)):\n",
    "    value_to_sort = array[i]\n",
    "    while array[i-1] >  array[i] and i > 0:\n",
    "        (array[i], array[i- 1]) = (array[i-1] , array[i])\n",
    "        i = i - 1\n",
    "array"
   ]
  },
  {
   "cell_type": "code",
   "execution_count": 1,
   "metadata": {
    "vscode": {
     "languageId": "powershell"
    }
   },
   "outputs": [
    {
     "data": {
      "text/plain": [
       "[9, 12, 13, 23, 32, 78]"
      ]
     },
     "execution_count": 1,
     "metadata": {},
     "output_type": "execute_result"
    }
   ],
   "source": [
    "# Insertion sort\n",
    "# an unsorted list\n",
    "my_list = [32, 12, 13, 9, 23, 78]\n",
    "# create a  variable to hold the unsorted value which needs to be sort\n",
    "\n",
    "for i in range(1, len(my_list)):\n",
    "    value_to_sort = my_list[i]\n",
    "    \n",
    "    while value_to_sort < my_list[i - 1] and i > 0:\n",
    "          my_list[i] , my_list[i - 1] = my_list[i - 1], my_list[i]\n",
    "          i = i - 1\n",
    "    \n",
    "my_list  \n"
   ]
  },
  {
   "cell_type": "code",
   "execution_count": 9,
   "metadata": {
    "vscode": {
     "languageId": "powershell"
    }
   },
   "outputs": [
    {
     "name": "stdout",
     "output_type": "stream",
     "text": [
      "[9, 12, 13, 23, 32, 78]\n"
     ]
    }
   ],
   "source": [
    "my_list = [32, 12, 13, 9, 23, 78]\n",
    "\n",
    "for i in range(len(my_list)):\n",
    "    lowest_val_index = i\n",
    "\n",
    "    for j in range(i + 1, len(my_list)):\n",
    "        if my_list[j] < my_list[lowest_val_index]:\n",
    "           lowest_val_index = j\n",
    "    (my_list[i], my_list[lowest_val_index]) = (my_list[lowest_val_index], my_list[i])\n",
    "          \n",
    "print(my_list)"
   ]
  },
  {
   "cell_type": "code",
   "execution_count": 18,
   "metadata": {
    "vscode": {
     "languageId": "powershell"
    }
   },
   "outputs": [
    {
     "data": {
      "text/plain": [
       "[-1, 12, 23, 32, 56]"
      ]
     },
     "execution_count": 18,
     "metadata": {},
     "output_type": "execute_result"
    }
   ],
   "source": [
    "# selection sort\n",
    "num_list = [32, 12, 56, 23, -1]\n",
    "\n",
    "for i in range(len(num_list)):\n",
    "    lowest_val_index = i\n",
    "    for j in range(i + 1, len(num_list)):\n",
    "        if num_list[j] < num_list[lowest_val_index]:\n",
    "           lowest_val_index = j\n",
    "    num_list[i] , num_list[lowest_val_index] = num_list[lowest_val_index], num_list[i]\n",
    "num_list\n",
    "\n"
   ]
  },
  {
   "cell_type": "code",
   "execution_count": 40,
   "metadata": {
    "vscode": {
     "languageId": "powershell"
    }
   },
   "outputs": [
    {
     "data": {
      "text/plain": [
       "[13, 32]"
      ]
     },
     "execution_count": 40,
     "metadata": {},
     "output_type": "execute_result"
    }
   ],
   "source": [
    "# insertion sort\n",
    "num_list = [32,13]\n",
    "\n",
    "for i in range(1 , len(num_list)):\n",
    "     \n",
    "    while num_list[i] < num_list[i - 1] and i > 0:\n",
    "          num_list[i], num_list[i - 1] = num_list[i - 1], num_list[i]\n",
    "          i = i - 1\n",
    "num_list\n",
    "\n",
    "\n",
    "num_list  "
   ]
  }
 ],
 "metadata": {
  "kernelspec": {
   "display_name": "Python 3",
   "language": "python",
   "name": "python3"
  },
  "language_info": {
   "codemirror_mode": {
    "name": "ipython",
    "version": 3
   },
   "file_extension": ".py",
   "mimetype": "text/x-python",
   "name": "python",
   "nbconvert_exporter": "python",
   "pygments_lexer": "ipython3",
   "version": "3.9.13"
  },
  "orig_nbformat": 4
 },
 "nbformat": 4,
 "nbformat_minor": 2
}
